{
 "cells": [
  {
   "cell_type": "code",
   "execution_count": null,
   "metadata": {},
   "outputs": [],
   "source": [
    "from sklearn.feature_extraction.text import TfidfVectorizer\n",
    "from sklearn.metrics.pairwise import linear_kernel\n",
    "\n",
    "# 아이템 설명 데이터 (예시)\n",
    "item_descriptions = [\"Action movie with thrilling scenes.\",\n",
    "                     \"Romantic drama with a twist.\",\n",
    "                     \"Sci-fi adventure with aliens.\",\n",
    "                     \"Comedy film with lots of laughs.\",\n",
    "                     \"Mystery thriller with unexpected ending.\"]\n",
    "\n",
    "# TF-IDF 벡터화\n",
    "vectorizer = TfidfVectorizer()\n",
    "item_matrix = vectorizer.fit_transform(item_descriptions)\n",
    "\n",
    "# 유사도 행렬 계산 (코사인 유사도 사용)\n",
    "content_similarity_matrix = linear_kernel(item_matrix, item_matrix)\n",
    "\n",
    "# 아이템 추천을 위한 함수\n",
    "def recommend_content(item_matrix, content_similarity_matrix, item_id, top_n=2):\n",
    "    item_similarities = content_similarity_matrix[item_id]\n",
    "    similar_items = np.argsort(item_similarities)[::-1][1:]  # 자기 자신 제외하고 가장 비슷한 아이템 순으로 정렬\n",
    "    recommendations = [(item, item_similarities[item]) for item in similar_items]\n",
    "    \n",
    "    recommendations.sort(key=lambda x: x[1], reverse=True)\n",
    "    return recommendations[:top_n]\n",
    "\n",
    "# 아이템 0에게 상위 2개 아이템 추천\n",
    "item_id = 0\n",
    "top_content_recommendations = recommend_content(item_matrix, content_similarity_matrix, item_id)\n",
    "print(f\"Top content-based recommendations for item {item_id}: {top_content_recommendations}\")"
   ]
  }
 ],
 "metadata": {
  "language_info": {
   "name": "python"
  },
  "orig_nbformat": 4
 },
 "nbformat": 4,
 "nbformat_minor": 2
}
