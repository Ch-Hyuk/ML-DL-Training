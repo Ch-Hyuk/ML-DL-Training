{
  "cells": [
    {
      "cell_type": "markdown",
      "metadata": {
        "id": "rBPspcq8cfC0"
      },
      "source": [
        "# 컨텐츠 기반 영화 추천 시스템을 만들어 보자\n",
        "\n",
        "https://www.kaggle.com/tmdb/tmdb-movie-metadata\n",
        "\n",
        "이 데이터셋은 영화에 대한 정보(예산, 장르, 평점, 런닝시간, 제목, 키워드 등등)와 영화 연출팀과 배우들에 대한 별도 정보로 구성되어 있으며 일반 사용자들이 이 정보를 입력하여 구성되었다 (위키와 흡사)\n",
        "\n",
        "내가 좋아한 (리뷰를 좋게 준) 영화와 비슷한 영화들(컨텐츠 측면에서)을 찾아서 추천"
      ]
    },
    {
      "cell_type": "markdown",
      "metadata": {
        "id": "Txl6fsdQb9kF"
      },
      "source": [
        "## 입력 데이터 로딩\n",
        "\n",
        "*   영화 정보는 tmdb_5000_movies.csv라는 파일에 있다. 이 파일만 사용할 예정\n"
      ]
    },
    {
      "cell_type": "code",
      "execution_count": 1,
      "metadata": {
        "id": "y0D6ujudb98S"
      },
      "outputs": [],
      "source": [
        "import pandas as pd\n",
        "import numpy as np"
      ]
    },
    {
      "cell_type": "code",
      "execution_count": 2,
      "metadata": {
        "id": "9rkuVyb3cEEA"
      },
      "outputs": [],
      "source": [
        "movies = pd.read_csv(\"https://grepp-reco-test.s3.ap-northeast-2.amazonaws.com/tmdb_5000_movies.csv\")"
      ]
    },
    {
      "cell_type": "code",
      "execution_count": 3,
      "metadata": {
        "colab": {
          "base_uri": "https://localhost:8080/",
          "height": 652
        },
        "id": "blpvnvHPcSzq",
        "outputId": "be367b47-daef-4144-c669-1cc73b0966a3"
      },
      "outputs": [
        {
          "data": {
            "text/html": [
              "<div>\n",
              "<style scoped>\n",
              "    .dataframe tbody tr th:only-of-type {\n",
              "        vertical-align: middle;\n",
              "    }\n",
              "\n",
              "    .dataframe tbody tr th {\n",
              "        vertical-align: top;\n",
              "    }\n",
              "\n",
              "    .dataframe thead th {\n",
              "        text-align: right;\n",
              "    }\n",
              "</style>\n",
              "<table border=\"1\" class=\"dataframe\">\n",
              "  <thead>\n",
              "    <tr style=\"text-align: right;\">\n",
              "      <th></th>\n",
              "      <th>budget</th>\n",
              "      <th>genres</th>\n",
              "      <th>homepage</th>\n",
              "      <th>id</th>\n",
              "      <th>keywords</th>\n",
              "      <th>original_language</th>\n",
              "      <th>original_title</th>\n",
              "      <th>overview</th>\n",
              "      <th>popularity</th>\n",
              "      <th>production_companies</th>\n",
              "      <th>production_countries</th>\n",
              "      <th>release_date</th>\n",
              "      <th>revenue</th>\n",
              "      <th>runtime</th>\n",
              "      <th>spoken_languages</th>\n",
              "      <th>status</th>\n",
              "      <th>tagline</th>\n",
              "      <th>title</th>\n",
              "      <th>vote_average</th>\n",
              "      <th>vote_count</th>\n",
              "    </tr>\n",
              "  </thead>\n",
              "  <tbody>\n",
              "    <tr>\n",
              "      <th>0</th>\n",
              "      <td>237000000</td>\n",
              "      <td>[{\"id\": 28, \"name\": \"Action\"}, {\"id\": 12, \"nam...</td>\n",
              "      <td>http://www.avatarmovie.com/</td>\n",
              "      <td>19995</td>\n",
              "      <td>[{\"id\": 1463, \"name\": \"culture clash\"}, {\"id\":...</td>\n",
              "      <td>en</td>\n",
              "      <td>Avatar</td>\n",
              "      <td>In the 22nd century, a paraplegic Marine is di...</td>\n",
              "      <td>150.437577</td>\n",
              "      <td>[{\"name\": \"Ingenious Film Partners\", \"id\": 289...</td>\n",
              "      <td>[{\"iso_3166_1\": \"US\", \"name\": \"United States o...</td>\n",
              "      <td>2009-12-10</td>\n",
              "      <td>2787965087</td>\n",
              "      <td>162.0</td>\n",
              "      <td>[{\"iso_639_1\": \"en\", \"name\": \"English\"}, {\"iso...</td>\n",
              "      <td>Released</td>\n",
              "      <td>Enter the World of Pandora.</td>\n",
              "      <td>Avatar</td>\n",
              "      <td>7.2</td>\n",
              "      <td>11800</td>\n",
              "    </tr>\n",
              "    <tr>\n",
              "      <th>1</th>\n",
              "      <td>300000000</td>\n",
              "      <td>[{\"id\": 12, \"name\": \"Adventure\"}, {\"id\": 14, \"...</td>\n",
              "      <td>http://disney.go.com/disneypictures/pirates/</td>\n",
              "      <td>285</td>\n",
              "      <td>[{\"id\": 270, \"name\": \"ocean\"}, {\"id\": 726, \"na...</td>\n",
              "      <td>en</td>\n",
              "      <td>Pirates of the Caribbean: At World's End</td>\n",
              "      <td>Captain Barbossa, long believed to be dead, ha...</td>\n",
              "      <td>139.082615</td>\n",
              "      <td>[{\"name\": \"Walt Disney Pictures\", \"id\": 2}, {\"...</td>\n",
              "      <td>[{\"iso_3166_1\": \"US\", \"name\": \"United States o...</td>\n",
              "      <td>2007-05-19</td>\n",
              "      <td>961000000</td>\n",
              "      <td>169.0</td>\n",
              "      <td>[{\"iso_639_1\": \"en\", \"name\": \"English\"}]</td>\n",
              "      <td>Released</td>\n",
              "      <td>At the end of the world, the adventure begins.</td>\n",
              "      <td>Pirates of the Caribbean: At World's End</td>\n",
              "      <td>6.9</td>\n",
              "      <td>4500</td>\n",
              "    </tr>\n",
              "    <tr>\n",
              "      <th>2</th>\n",
              "      <td>245000000</td>\n",
              "      <td>[{\"id\": 28, \"name\": \"Action\"}, {\"id\": 12, \"nam...</td>\n",
              "      <td>http://www.sonypictures.com/movies/spectre/</td>\n",
              "      <td>206647</td>\n",
              "      <td>[{\"id\": 470, \"name\": \"spy\"}, {\"id\": 818, \"name...</td>\n",
              "      <td>en</td>\n",
              "      <td>Spectre</td>\n",
              "      <td>A cryptic message from Bond’s past sends him o...</td>\n",
              "      <td>107.376788</td>\n",
              "      <td>[{\"name\": \"Columbia Pictures\", \"id\": 5}, {\"nam...</td>\n",
              "      <td>[{\"iso_3166_1\": \"GB\", \"name\": \"United Kingdom\"...</td>\n",
              "      <td>2015-10-26</td>\n",
              "      <td>880674609</td>\n",
              "      <td>148.0</td>\n",
              "      <td>[{\"iso_639_1\": \"fr\", \"name\": \"Fran\\u00e7ais\"},...</td>\n",
              "      <td>Released</td>\n",
              "      <td>A Plan No One Escapes</td>\n",
              "      <td>Spectre</td>\n",
              "      <td>6.3</td>\n",
              "      <td>4466</td>\n",
              "    </tr>\n",
              "    <tr>\n",
              "      <th>3</th>\n",
              "      <td>250000000</td>\n",
              "      <td>[{\"id\": 28, \"name\": \"Action\"}, {\"id\": 80, \"nam...</td>\n",
              "      <td>http://www.thedarkknightrises.com/</td>\n",
              "      <td>49026</td>\n",
              "      <td>[{\"id\": 849, \"name\": \"dc comics\"}, {\"id\": 853,...</td>\n",
              "      <td>en</td>\n",
              "      <td>The Dark Knight Rises</td>\n",
              "      <td>Following the death of District Attorney Harve...</td>\n",
              "      <td>112.312950</td>\n",
              "      <td>[{\"name\": \"Legendary Pictures\", \"id\": 923}, {\"...</td>\n",
              "      <td>[{\"iso_3166_1\": \"US\", \"name\": \"United States o...</td>\n",
              "      <td>2012-07-16</td>\n",
              "      <td>1084939099</td>\n",
              "      <td>165.0</td>\n",
              "      <td>[{\"iso_639_1\": \"en\", \"name\": \"English\"}]</td>\n",
              "      <td>Released</td>\n",
              "      <td>The Legend Ends</td>\n",
              "      <td>The Dark Knight Rises</td>\n",
              "      <td>7.6</td>\n",
              "      <td>9106</td>\n",
              "    </tr>\n",
              "    <tr>\n",
              "      <th>4</th>\n",
              "      <td>260000000</td>\n",
              "      <td>[{\"id\": 28, \"name\": \"Action\"}, {\"id\": 12, \"nam...</td>\n",
              "      <td>http://movies.disney.com/john-carter</td>\n",
              "      <td>49529</td>\n",
              "      <td>[{\"id\": 818, \"name\": \"based on novel\"}, {\"id\":...</td>\n",
              "      <td>en</td>\n",
              "      <td>John Carter</td>\n",
              "      <td>John Carter is a war-weary, former military ca...</td>\n",
              "      <td>43.926995</td>\n",
              "      <td>[{\"name\": \"Walt Disney Pictures\", \"id\": 2}]</td>\n",
              "      <td>[{\"iso_3166_1\": \"US\", \"name\": \"United States o...</td>\n",
              "      <td>2012-03-07</td>\n",
              "      <td>284139100</td>\n",
              "      <td>132.0</td>\n",
              "      <td>[{\"iso_639_1\": \"en\", \"name\": \"English\"}]</td>\n",
              "      <td>Released</td>\n",
              "      <td>Lost in our world, found in another.</td>\n",
              "      <td>John Carter</td>\n",
              "      <td>6.1</td>\n",
              "      <td>2124</td>\n",
              "    </tr>\n",
              "  </tbody>\n",
              "</table>\n",
              "</div>"
            ],
            "text/plain": [
              "      budget                                             genres  \\\n",
              "0  237000000  [{\"id\": 28, \"name\": \"Action\"}, {\"id\": 12, \"nam...   \n",
              "1  300000000  [{\"id\": 12, \"name\": \"Adventure\"}, {\"id\": 14, \"...   \n",
              "2  245000000  [{\"id\": 28, \"name\": \"Action\"}, {\"id\": 12, \"nam...   \n",
              "3  250000000  [{\"id\": 28, \"name\": \"Action\"}, {\"id\": 80, \"nam...   \n",
              "4  260000000  [{\"id\": 28, \"name\": \"Action\"}, {\"id\": 12, \"nam...   \n",
              "\n",
              "                                       homepage      id  \\\n",
              "0                   http://www.avatarmovie.com/   19995   \n",
              "1  http://disney.go.com/disneypictures/pirates/     285   \n",
              "2   http://www.sonypictures.com/movies/spectre/  206647   \n",
              "3            http://www.thedarkknightrises.com/   49026   \n",
              "4          http://movies.disney.com/john-carter   49529   \n",
              "\n",
              "                                            keywords original_language  \\\n",
              "0  [{\"id\": 1463, \"name\": \"culture clash\"}, {\"id\":...                en   \n",
              "1  [{\"id\": 270, \"name\": \"ocean\"}, {\"id\": 726, \"na...                en   \n",
              "2  [{\"id\": 470, \"name\": \"spy\"}, {\"id\": 818, \"name...                en   \n",
              "3  [{\"id\": 849, \"name\": \"dc comics\"}, {\"id\": 853,...                en   \n",
              "4  [{\"id\": 818, \"name\": \"based on novel\"}, {\"id\":...                en   \n",
              "\n",
              "                             original_title  \\\n",
              "0                                    Avatar   \n",
              "1  Pirates of the Caribbean: At World's End   \n",
              "2                                   Spectre   \n",
              "3                     The Dark Knight Rises   \n",
              "4                               John Carter   \n",
              "\n",
              "                                            overview  popularity  \\\n",
              "0  In the 22nd century, a paraplegic Marine is di...  150.437577   \n",
              "1  Captain Barbossa, long believed to be dead, ha...  139.082615   \n",
              "2  A cryptic message from Bond’s past sends him o...  107.376788   \n",
              "3  Following the death of District Attorney Harve...  112.312950   \n",
              "4  John Carter is a war-weary, former military ca...   43.926995   \n",
              "\n",
              "                                production_companies  \\\n",
              "0  [{\"name\": \"Ingenious Film Partners\", \"id\": 289...   \n",
              "1  [{\"name\": \"Walt Disney Pictures\", \"id\": 2}, {\"...   \n",
              "2  [{\"name\": \"Columbia Pictures\", \"id\": 5}, {\"nam...   \n",
              "3  [{\"name\": \"Legendary Pictures\", \"id\": 923}, {\"...   \n",
              "4        [{\"name\": \"Walt Disney Pictures\", \"id\": 2}]   \n",
              "\n",
              "                                production_countries release_date     revenue  \\\n",
              "0  [{\"iso_3166_1\": \"US\", \"name\": \"United States o...   2009-12-10  2787965087   \n",
              "1  [{\"iso_3166_1\": \"US\", \"name\": \"United States o...   2007-05-19   961000000   \n",
              "2  [{\"iso_3166_1\": \"GB\", \"name\": \"United Kingdom\"...   2015-10-26   880674609   \n",
              "3  [{\"iso_3166_1\": \"US\", \"name\": \"United States o...   2012-07-16  1084939099   \n",
              "4  [{\"iso_3166_1\": \"US\", \"name\": \"United States o...   2012-03-07   284139100   \n",
              "\n",
              "   runtime                                   spoken_languages    status  \\\n",
              "0    162.0  [{\"iso_639_1\": \"en\", \"name\": \"English\"}, {\"iso...  Released   \n",
              "1    169.0           [{\"iso_639_1\": \"en\", \"name\": \"English\"}]  Released   \n",
              "2    148.0  [{\"iso_639_1\": \"fr\", \"name\": \"Fran\\u00e7ais\"},...  Released   \n",
              "3    165.0           [{\"iso_639_1\": \"en\", \"name\": \"English\"}]  Released   \n",
              "4    132.0           [{\"iso_639_1\": \"en\", \"name\": \"English\"}]  Released   \n",
              "\n",
              "                                          tagline  \\\n",
              "0                     Enter the World of Pandora.   \n",
              "1  At the end of the world, the adventure begins.   \n",
              "2                           A Plan No One Escapes   \n",
              "3                                 The Legend Ends   \n",
              "4            Lost in our world, found in another.   \n",
              "\n",
              "                                      title  vote_average  vote_count  \n",
              "0                                    Avatar           7.2       11800  \n",
              "1  Pirates of the Caribbean: At World's End           6.9        4500  \n",
              "2                                   Spectre           6.3        4466  \n",
              "3                     The Dark Knight Rises           7.6        9106  \n",
              "4                               John Carter           6.1        2124  "
            ]
          },
          "execution_count": 3,
          "metadata": {},
          "output_type": "execute_result"
        }
      ],
      "source": [
        "movies.head()"
      ]
    },
    {
      "cell_type": "code",
      "execution_count": 4,
      "metadata": {
        "colab": {
          "base_uri": "https://localhost:8080/"
        },
        "id": "pxSppRXbccNr",
        "outputId": "99574cb0-0db2-4690-98f8-834981a5411b"
      },
      "outputs": [
        {
          "data": {
            "text/plain": [
              "(4803, 20)"
            ]
          },
          "execution_count": 4,
          "metadata": {},
          "output_type": "execute_result"
        }
      ],
      "source": [
        "movies.shape"
      ]
    },
    {
      "cell_type": "code",
      "execution_count": 5,
      "metadata": {
        "id": "iVYfiao_salu"
      },
      "outputs": [],
      "source": [
        "import json\n",
        "\n",
        "def f(j):\n",
        "    genres = []\n",
        "    ar = json.loads(j)\n",
        "    for a in ar:\n",
        "        genres.append(a.get(\"name\"))\n",
        "    return \" \".join(sorted(genres))\n",
        "\n",
        "movies['genres_name'] = movies.apply(lambda x: f(x.genres), axis=1)"
      ]
    },
    {
      "cell_type": "code",
      "execution_count": 6,
      "metadata": {
        "colab": {
          "base_uri": "https://localhost:8080/",
          "height": 195
        },
        "id": "FhePVFKzvV2J",
        "outputId": "674dfad7-44e6-4512-9269-655fbaf41090"
      },
      "outputs": [
        {
          "data": {
            "text/html": [
              "<div>\n",
              "<style scoped>\n",
              "    .dataframe tbody tr th:only-of-type {\n",
              "        vertical-align: middle;\n",
              "    }\n",
              "\n",
              "    .dataframe tbody tr th {\n",
              "        vertical-align: top;\n",
              "    }\n",
              "\n",
              "    .dataframe thead th {\n",
              "        text-align: right;\n",
              "    }\n",
              "</style>\n",
              "<table border=\"1\" class=\"dataframe\">\n",
              "  <thead>\n",
              "    <tr style=\"text-align: right;\">\n",
              "      <th></th>\n",
              "      <th>genres_name</th>\n",
              "    </tr>\n",
              "  </thead>\n",
              "  <tbody>\n",
              "    <tr>\n",
              "      <th>0</th>\n",
              "      <td>Action Adventure Fantasy Science Fiction</td>\n",
              "    </tr>\n",
              "    <tr>\n",
              "      <th>1</th>\n",
              "      <td>Action Adventure Fantasy</td>\n",
              "    </tr>\n",
              "    <tr>\n",
              "      <th>2</th>\n",
              "      <td>Action Adventure Crime</td>\n",
              "    </tr>\n",
              "    <tr>\n",
              "      <th>3</th>\n",
              "      <td>Action Crime Drama Thriller</td>\n",
              "    </tr>\n",
              "    <tr>\n",
              "      <th>4</th>\n",
              "      <td>Action Adventure Science Fiction</td>\n",
              "    </tr>\n",
              "  </tbody>\n",
              "</table>\n",
              "</div>"
            ],
            "text/plain": [
              "                                genres_name\n",
              "0  Action Adventure Fantasy Science Fiction\n",
              "1                  Action Adventure Fantasy\n",
              "2                    Action Adventure Crime\n",
              "3               Action Crime Drama Thriller\n",
              "4          Action Adventure Science Fiction"
            ]
          },
          "execution_count": 6,
          "metadata": {},
          "output_type": "execute_result"
        }
      ],
      "source": [
        "movies[['genres_name']].head()   # vs. movies['genres_name'].head()"
      ]
    },
    {
      "cell_type": "code",
      "execution_count": 7,
      "metadata": {
        "colab": {
          "base_uri": "https://localhost:8080/"
        },
        "id": "UaBocamo0c7E",
        "outputId": "cbe0d2fb-0219-42af-b7d4-2d6912ca65c5"
      },
      "outputs": [
        {
          "data": {
            "text/plain": [
              "638"
            ]
          },
          "execution_count": 7,
          "metadata": {},
          "output_type": "execute_result"
        }
      ],
      "source": [
        "movies['genres_name'].nunique()"
      ]
    },
    {
      "cell_type": "code",
      "execution_count": 8,
      "metadata": {
        "colab": {
          "base_uri": "https://localhost:8080/"
        },
        "id": "WVmQd9Gh2HKj",
        "outputId": "9ea6fbd4-0dee-4de1-a4d9-05cff53ad3d9"
      },
      "outputs": [
        {
          "data": {
            "text/plain": [
              "genres_name\n",
              "                                            28\n",
              "Action                                      21\n",
              "Action Adventure                            15\n",
              "Action Adventure Animation                   1\n",
              "Action Adventure Animation Comedy Family     5\n",
              "                                            ..\n",
              "Science Fiction Thriller                    12\n",
              "Thriller                                    23\n",
              "War                                          2\n",
              "War Western                                  1\n",
              "Western                                     18\n",
              "Length: 638, dtype: int64"
            ]
          },
          "execution_count": 8,
          "metadata": {},
          "output_type": "execute_result"
        }
      ],
      "source": [
        "movies.groupby('genres_name').size()"
      ]
    },
    {
      "cell_type": "markdown",
      "metadata": {
        "id": "Df1sRrzO_Ssd"
      },
      "source": [
        "## 여러 텍스트 필드들을 모아서 텍스트 유사도에 사용할 텍스트 필드 하나를 생성"
      ]
    },
    {
      "cell_type": "code",
      "execution_count": 9,
      "metadata": {
        "id": "QnFoa1oqAs5t"
      },
      "outputs": [],
      "source": [
        "for f in ['original_title','overview','genres_name']:\n",
        "  movies[f] = movies[f].fillna('')"
      ]
    },
    {
      "cell_type": "code",
      "execution_count": 11,
      "metadata": {
        "id": "HL4vR-tH_GyM"
      },
      "outputs": [],
      "source": [
        "def combine_features(row):\n",
        "\ttry:\n",
        "\t\treturn row['original_title']+\" \"+row['overview']+\" \"+row[\"genres_name\"]\n",
        "\texcept:\n",
        "\t\tprint (\"Error:\", row)"
      ]
    },
    {
      "cell_type": "code",
      "execution_count": 12,
      "metadata": {
        "id": "jve2kIG8B1Px"
      },
      "outputs": [],
      "source": [
        "movies[\"combined_features\"] = movies.apply(combine_features,axis=1)\n",
        "movies = movies.reset_index()"
      ]
    },
    {
      "cell_type": "code",
      "execution_count": 13,
      "metadata": {
        "colab": {
          "base_uri": "https://localhost:8080/"
        },
        "id": "L_BiVL4YjtPM",
        "outputId": "98b9a315-1bc3-4cc6-bfc1-97bd5aed8c51"
      },
      "outputs": [
        {
          "data": {
            "text/plain": [
              "0    Avatar In the 22nd century, a paraplegic Marin...\n",
              "1    Pirates of the Caribbean: At World's End Capta...\n",
              "2    Spectre A cryptic message from Bond’s past sen...\n",
              "3    The Dark Knight Rises Following the death of D...\n",
              "4    John Carter John Carter is a war-weary, former...\n",
              "Name: combined_features, dtype: object"
            ]
          },
          "execution_count": 13,
          "metadata": {},
          "output_type": "execute_result"
        }
      ],
      "source": [
        "movies[\"combined_features\"].head()"
      ]
    },
    {
      "cell_type": "markdown",
      "metadata": {
        "id": "XW9vpC7iHuFw"
      },
      "source": [
        "## TF-IDF 기반 벡터 생성 후 코사인 유사도로 영화들간의 유사도 계산"
      ]
    },
    {
      "cell_type": "code",
      "execution_count": 14,
      "metadata": {
        "id": "TbY_Ictt-aLx"
      },
      "outputs": [],
      "source": [
        "from sklearn.feature_extraction.text import TfidfVectorizer\n",
        "from sklearn.metrics.pairwise import cosine_similarity"
      ]
    },
    {
      "cell_type": "code",
      "execution_count": 15,
      "metadata": {
        "id": "dFeI1fOACDhP"
      },
      "outputs": [],
      "source": [
        "tfidfvectorizer = TfidfVectorizer(analyzer='word', stop_words='english', norm='l2')"
      ]
    },
    {
      "cell_type": "code",
      "execution_count": 16,
      "metadata": {
        "id": "ezr5zEinCGNx"
      },
      "outputs": [],
      "source": [
        "tfidf_matrix = tfidfvectorizer.fit_transform(movies[\"combined_features\"])"
      ]
    },
    {
      "cell_type": "code",
      "execution_count": 17,
      "metadata": {
        "colab": {
          "base_uri": "https://localhost:8080/"
        },
        "id": "Sw2_jChiHRvC",
        "outputId": "0b4bd980-8b70-44cf-a48f-829c431bdb7e"
      },
      "outputs": [
        {
          "data": {
            "text/plain": [
              "(4803, 22179)"
            ]
          },
          "execution_count": 17,
          "metadata": {},
          "output_type": "execute_result"
        }
      ],
      "source": [
        "tfidf_matrix.shape    #  min_df 파라미터!!!"
      ]
    },
    {
      "cell_type": "code",
      "execution_count": 18,
      "metadata": {
        "id": "OpiZRLBiCRZz"
      },
      "outputs": [],
      "source": [
        "cosine_sim = cosine_similarity(tfidf_matrix) # linear_kernel을 사용해도 동일함. tfidf 벡터가 생성될 때 L2 normalization이 되었기 때문"
      ]
    },
    {
      "cell_type": "code",
      "execution_count": 19,
      "metadata": {
        "colab": {
          "base_uri": "https://localhost:8080/",
          "height": 244
        },
        "id": "qUdIwf59s-up",
        "outputId": "67c812fc-fa1d-49f8-a0f1-dfffcfd91349"
      },
      "outputs": [
        {
          "data": {
            "text/html": [
              "<div>\n",
              "<style scoped>\n",
              "    .dataframe tbody tr th:only-of-type {\n",
              "        vertical-align: middle;\n",
              "    }\n",
              "\n",
              "    .dataframe tbody tr th {\n",
              "        vertical-align: top;\n",
              "    }\n",
              "\n",
              "    .dataframe thead th {\n",
              "        text-align: right;\n",
              "    }\n",
              "</style>\n",
              "<table border=\"1\" class=\"dataframe\">\n",
              "  <thead>\n",
              "    <tr style=\"text-align: right;\">\n",
              "      <th></th>\n",
              "      <th>0</th>\n",
              "      <th>1</th>\n",
              "      <th>2</th>\n",
              "      <th>3</th>\n",
              "      <th>4</th>\n",
              "      <th>5</th>\n",
              "      <th>6</th>\n",
              "      <th>7</th>\n",
              "      <th>8</th>\n",
              "      <th>9</th>\n",
              "      <th>...</th>\n",
              "      <th>4793</th>\n",
              "      <th>4794</th>\n",
              "      <th>4795</th>\n",
              "      <th>4796</th>\n",
              "      <th>4797</th>\n",
              "      <th>4798</th>\n",
              "      <th>4799</th>\n",
              "      <th>4800</th>\n",
              "      <th>4801</th>\n",
              "      <th>4802</th>\n",
              "    </tr>\n",
              "  </thead>\n",
              "  <tbody>\n",
              "    <tr>\n",
              "      <th>0</th>\n",
              "      <td>1.000000</td>\n",
              "      <td>0.034109</td>\n",
              "      <td>0.013909</td>\n",
              "      <td>0.026299</td>\n",
              "      <td>0.029273</td>\n",
              "      <td>0.046984</td>\n",
              "      <td>0.003855</td>\n",
              "      <td>0.068451</td>\n",
              "      <td>0.020614</td>\n",
              "      <td>0.020293</td>\n",
              "      <td>...</td>\n",
              "      <td>0.000000</td>\n",
              "      <td>0.000000</td>\n",
              "      <td>0.026697</td>\n",
              "      <td>0.057602</td>\n",
              "      <td>0.000000</td>\n",
              "      <td>0.003941</td>\n",
              "      <td>0.0</td>\n",
              "      <td>0.000000</td>\n",
              "      <td>0.000000</td>\n",
              "      <td>0.000000</td>\n",
              "    </tr>\n",
              "    <tr>\n",
              "      <th>1</th>\n",
              "      <td>0.034109</td>\n",
              "      <td>1.000000</td>\n",
              "      <td>0.014576</td>\n",
              "      <td>0.004304</td>\n",
              "      <td>0.047903</td>\n",
              "      <td>0.023093</td>\n",
              "      <td>0.004040</td>\n",
              "      <td>0.039814</td>\n",
              "      <td>0.021603</td>\n",
              "      <td>0.029597</td>\n",
              "      <td>...</td>\n",
              "      <td>0.016368</td>\n",
              "      <td>0.044292</td>\n",
              "      <td>0.006000</td>\n",
              "      <td>0.000000</td>\n",
              "      <td>0.000000</td>\n",
              "      <td>0.004130</td>\n",
              "      <td>0.0</td>\n",
              "      <td>0.022717</td>\n",
              "      <td>0.016449</td>\n",
              "      <td>0.000000</td>\n",
              "    </tr>\n",
              "    <tr>\n",
              "      <th>2</th>\n",
              "      <td>0.013909</td>\n",
              "      <td>0.014576</td>\n",
              "      <td>1.000000</td>\n",
              "      <td>0.008018</td>\n",
              "      <td>0.009303</td>\n",
              "      <td>0.009417</td>\n",
              "      <td>0.003084</td>\n",
              "      <td>0.041851</td>\n",
              "      <td>0.023712</td>\n",
              "      <td>0.008672</td>\n",
              "      <td>...</td>\n",
              "      <td>0.022647</td>\n",
              "      <td>0.000000</td>\n",
              "      <td>0.000000</td>\n",
              "      <td>0.000000</td>\n",
              "      <td>0.015928</td>\n",
              "      <td>0.007694</td>\n",
              "      <td>0.0</td>\n",
              "      <td>0.011636</td>\n",
              "      <td>0.000000</td>\n",
              "      <td>0.000000</td>\n",
              "    </tr>\n",
              "    <tr>\n",
              "      <th>3</th>\n",
              "      <td>0.026299</td>\n",
              "      <td>0.004304</td>\n",
              "      <td>0.008018</td>\n",
              "      <td>1.000000</td>\n",
              "      <td>0.011748</td>\n",
              "      <td>0.007161</td>\n",
              "      <td>0.014069</td>\n",
              "      <td>0.027766</td>\n",
              "      <td>0.028148</td>\n",
              "      <td>0.158541</td>\n",
              "      <td>...</td>\n",
              "      <td>0.002655</td>\n",
              "      <td>0.003020</td>\n",
              "      <td>0.001183</td>\n",
              "      <td>0.004516</td>\n",
              "      <td>0.001678</td>\n",
              "      <td>0.007343</td>\n",
              "      <td>0.0</td>\n",
              "      <td>0.029067</td>\n",
              "      <td>0.038273</td>\n",
              "      <td>0.019549</td>\n",
              "    </tr>\n",
              "    <tr>\n",
              "      <th>4</th>\n",
              "      <td>0.029273</td>\n",
              "      <td>0.047903</td>\n",
              "      <td>0.009303</td>\n",
              "      <td>0.011748</td>\n",
              "      <td>1.000000</td>\n",
              "      <td>0.007872</td>\n",
              "      <td>0.011027</td>\n",
              "      <td>0.054503</td>\n",
              "      <td>0.005454</td>\n",
              "      <td>0.019947</td>\n",
              "      <td>...</td>\n",
              "      <td>0.010447</td>\n",
              "      <td>0.000000</td>\n",
              "      <td>0.000000</td>\n",
              "      <td>0.013190</td>\n",
              "      <td>0.000000</td>\n",
              "      <td>0.002636</td>\n",
              "      <td>0.0</td>\n",
              "      <td>0.004744</td>\n",
              "      <td>0.000000</td>\n",
              "      <td>0.000000</td>\n",
              "    </tr>\n",
              "  </tbody>\n",
              "</table>\n",
              "<p>5 rows × 4803 columns</p>\n",
              "</div>"
            ],
            "text/plain": [
              "       0         1         2         3         4         5         6     \\\n",
              "0  1.000000  0.034109  0.013909  0.026299  0.029273  0.046984  0.003855   \n",
              "1  0.034109  1.000000  0.014576  0.004304  0.047903  0.023093  0.004040   \n",
              "2  0.013909  0.014576  1.000000  0.008018  0.009303  0.009417  0.003084   \n",
              "3  0.026299  0.004304  0.008018  1.000000  0.011748  0.007161  0.014069   \n",
              "4  0.029273  0.047903  0.009303  0.011748  1.000000  0.007872  0.011027   \n",
              "\n",
              "       7         8         9     ...      4793      4794      4795      4796  \\\n",
              "0  0.068451  0.020614  0.020293  ...  0.000000  0.000000  0.026697  0.057602   \n",
              "1  0.039814  0.021603  0.029597  ...  0.016368  0.044292  0.006000  0.000000   \n",
              "2  0.041851  0.023712  0.008672  ...  0.022647  0.000000  0.000000  0.000000   \n",
              "3  0.027766  0.028148  0.158541  ...  0.002655  0.003020  0.001183  0.004516   \n",
              "4  0.054503  0.005454  0.019947  ...  0.010447  0.000000  0.000000  0.013190   \n",
              "\n",
              "       4797      4798  4799      4800      4801      4802  \n",
              "0  0.000000  0.003941   0.0  0.000000  0.000000  0.000000  \n",
              "1  0.000000  0.004130   0.0  0.022717  0.016449  0.000000  \n",
              "2  0.015928  0.007694   0.0  0.011636  0.000000  0.000000  \n",
              "3  0.001678  0.007343   0.0  0.029067  0.038273  0.019549  \n",
              "4  0.000000  0.002636   0.0  0.004744  0.000000  0.000000  \n",
              "\n",
              "[5 rows x 4803 columns]"
            ]
          },
          "execution_count": 19,
          "metadata": {},
          "output_type": "execute_result"
        }
      ],
      "source": [
        "df_cosine_sim = pd.DataFrame(data = cosine_sim)\n",
        "df_cosine_sim.head()"
      ]
    },
    {
      "cell_type": "markdown",
      "metadata": {
        "id": "8E8XkgRiH21M"
      },
      "source": [
        "## 컨텐츠 기반 추천 함수 만들기"
      ]
    },
    {
      "cell_type": "code",
      "execution_count": 20,
      "metadata": {
        "id": "owmSw3l4Eoua"
      },
      "outputs": [],
      "source": [
        "def get_title_from_index(df, index):\n",
        "\treturn df[df.index == index][\"original_title\"].values[0]\n",
        "\n",
        "def get_index_from_title(df, title):\n",
        "\treturn df[df.original_title == title][\"index\"].values[0]"
      ]
    },
    {
      "cell_type": "code",
      "execution_count": 21,
      "metadata": {
        "colab": {
          "base_uri": "https://localhost:8080/"
        },
        "id": "YfLzyDJRAUZe",
        "outputId": "fcc8bf3b-a2db-4740-d113-0163c6cdebc8"
      },
      "outputs": [
        {
          "data": {
            "text/plain": [
              "array([1.        , 0.03410854, 0.01390903, ..., 0.        , 0.        ,\n",
              "       0.        ])"
            ]
          },
          "execution_count": 21,
          "metadata": {},
          "output_type": "execute_result"
        }
      ],
      "source": [
        "cosine_sim[0]"
      ]
    },
    {
      "cell_type": "code",
      "execution_count": null,
      "metadata": {
        "colab": {
          "base_uri": "https://localhost:8080/"
        },
        "id": "I3hj7s-i6x8h",
        "outputId": "f883f2ec-775b-490c-8a55-48ac7d39bfcb"
      },
      "outputs": [],
      "source": [
        "for cs in enumerate(cosine_sim[0]):\n",
        "  print(cs)"
      ]
    },
    {
      "cell_type": "code",
      "execution_count": 23,
      "metadata": {
        "id": "9gZWp5vQoB75"
      },
      "outputs": [],
      "source": [
        "def reco_top_similar_movies(movie_title, n=10):\n",
        "  movie_index = get_index_from_title(movies, movie_title)\n",
        "  similar_movies =  enumerate(cosine_sim[movie_index])\n",
        "  sorted_similar_movies = sorted(similar_movies, key=lambda x:x[1], reverse=True)\n",
        "\n",
        "  ret_movies = []\n",
        "  i = 0\n",
        "  for element in sorted_similar_movies:\n",
        "    title = get_title_from_index(movies, element[0])\n",
        "    ret_movies.append(title)\n",
        "    i=i+1\n",
        "    if i >= n:\n",
        "      break\n",
        "  return ret_movies"
      ]
    },
    {
      "cell_type": "code",
      "execution_count": 24,
      "metadata": {
        "colab": {
          "base_uri": "https://localhost:8080/"
        },
        "id": "3QKiQLllq8mC",
        "outputId": "1e098f53-3e34-4756-a576-3fac5dba1125"
      },
      "outputs": [
        {
          "name": "stdout",
          "output_type": "stream",
          "text": [
            "['Avatar', 'Apollo 18', 'The American', 'Obitaemyy Ostrov', 'The Matrix']\n"
          ]
        }
      ],
      "source": [
        "print(reco_top_similar_movies('Avatar', 5))"
      ]
    },
    {
      "cell_type": "code",
      "execution_count": null,
      "metadata": {
        "colab": {
          "base_uri": "https://localhost:8080/"
        },
        "id": "6FEkcquGxnKx",
        "outputId": "2f74fcda-575a-4659-91a2-359c77540a5f"
      },
      "outputs": [
        {
          "name": "stdout",
          "output_type": "stream",
          "text": [
            "['Minions', 'Despicable Me 2', 'Stuart Little 2', 'Stuart Little', 'Austin Powers: The Spy Who Shagged Me']\n"
          ]
        }
      ],
      "source": [
        "print(reco_top_similar_movies('Minions', 5))"
      ]
    },
    {
      "cell_type": "code",
      "execution_count": null,
      "metadata": {
        "colab": {
          "base_uri": "https://localhost:8080/"
        },
        "id": "mXeckDoSHJJO",
        "outputId": "c3147b43-2770-446b-a900-4ec03d703023"
      },
      "outputs": [
        {
          "name": "stdout",
          "output_type": "stream",
          "text": [
            "['Harry Potter and the Half-Blood Prince', 'Harry Potter and the Goblet of Fire', 'Harry Potter and the Order of the Phoenix', 'Harry Potter and the Chamber of Secrets', 'Harry Potter and the Prisoner of Azkaban']\n"
          ]
        }
      ],
      "source": [
        "print(reco_top_similar_movies('Harry Potter and the Half-Blood Prince', 5))"
      ]
    },
    {
      "cell_type": "code",
      "execution_count": 3,
      "metadata": {
        "id": "xjjZcc_OHLlk"
      },
      "outputs": [
        {
          "ename": "ValueError",
          "evalue": "'Action' is not in list",
          "output_type": "error",
          "traceback": [
            "\u001b[1;31m---------------------------------------------------------------------------\u001b[0m",
            "\u001b[1;31mValueError\u001b[0m                                Traceback (most recent call last)",
            "Cell \u001b[1;32mIn[3], line 50\u001b[0m\n\u001b[0;32m     43\u001b[0m user_ratings \u001b[39m=\u001b[39m {\n\u001b[0;32m     44\u001b[0m     \u001b[39m'\u001b[39m\u001b[39mMovie1\u001b[39m\u001b[39m'\u001b[39m: \u001b[39m5\u001b[39m,\n\u001b[0;32m     45\u001b[0m     \u001b[39m'\u001b[39m\u001b[39mMovie2\u001b[39m\u001b[39m'\u001b[39m: \u001b[39m4\u001b[39m,\n\u001b[0;32m     46\u001b[0m     \u001b[39m'\u001b[39m\u001b[39mMovie3\u001b[39m\u001b[39m'\u001b[39m: \u001b[39m3\u001b[39m,\n\u001b[0;32m     47\u001b[0m }\n\u001b[0;32m     49\u001b[0m \u001b[39m# 추천 시스템 사용\u001b[39;00m\n\u001b[1;32m---> 50\u001b[0m recommender \u001b[39m=\u001b[39m ContentBasedRecommender(items, user_ratings)\n\u001b[0;32m     51\u001b[0m recommendations \u001b[39m=\u001b[39m recommender\u001b[39m.\u001b[39mrecommend()\n\u001b[0;32m     52\u001b[0m \u001b[39mprint\u001b[39m(\u001b[39m\"\u001b[39m\u001b[39m추천 영화 순서:\u001b[39m\u001b[39m\"\u001b[39m, recommendations)\n",
            "Cell \u001b[1;32mIn[3], line 8\u001b[0m, in \u001b[0;36mContentBasedRecommender.__init__\u001b[1;34m(self, items, user_ratings)\u001b[0m\n\u001b[0;32m      6\u001b[0m \u001b[39mself\u001b[39m\u001b[39m.\u001b[39mitems \u001b[39m=\u001b[39m items\n\u001b[0;32m      7\u001b[0m \u001b[39mself\u001b[39m\u001b[39m.\u001b[39muser_ratings \u001b[39m=\u001b[39m user_ratings\n\u001b[1;32m----> 8\u001b[0m \u001b[39mself\u001b[39m\u001b[39m.\u001b[39mitem_profiles \u001b[39m=\u001b[39m \u001b[39mself\u001b[39;49m\u001b[39m.\u001b[39;49mbuild_item_profiles()\n",
            "Cell \u001b[1;32mIn[3], line 15\u001b[0m, in \u001b[0;36mContentBasedRecommender.build_item_profiles\u001b[1;34m(self)\u001b[0m\n\u001b[0;32m     13\u001b[0m     profile \u001b[39m=\u001b[39m np\u001b[39m.\u001b[39mzeros(\u001b[39mlen\u001b[39m(\u001b[39mset\u001b[39m([genre \u001b[39mfor\u001b[39;00m genres \u001b[39min\u001b[39;00m \u001b[39mself\u001b[39m\u001b[39m.\u001b[39mitems\u001b[39m.\u001b[39mvalues() \u001b[39mfor\u001b[39;00m genre \u001b[39min\u001b[39;00m genres])))\n\u001b[0;32m     14\u001b[0m     \u001b[39mfor\u001b[39;00m genre \u001b[39min\u001b[39;00m genres:\n\u001b[1;32m---> 15\u001b[0m         profile[\u001b[39mlist\u001b[39;49m(\u001b[39mset\u001b[39;49m(profile))\u001b[39m.\u001b[39;49mindex(genre)] \u001b[39m=\u001b[39m \u001b[39m1\u001b[39m\n\u001b[0;32m     16\u001b[0m     item_profiles[item] \u001b[39m=\u001b[39m profile\n\u001b[0;32m     17\u001b[0m \u001b[39mreturn\u001b[39;00m item_profiles\n",
            "\u001b[1;31mValueError\u001b[0m: 'Action' is not in list"
          ]
        }
      ],
      "source": [
        "import numpy as np\n",
        "from sklearn.metrics.pairwise import cosine_similarity\n",
        "\n",
        "class ContentBasedRecommender:\n",
        "    def __init__(self, items, user_ratings):\n",
        "        self.items = items\n",
        "        self.user_ratings = user_ratings\n",
        "        self.item_profiles = self.build_item_profiles()\n",
        "\n",
        "    def build_item_profiles(self):\n",
        "        item_profiles = {}\n",
        "        for item, genres in self.items.items():\n",
        "            profile = np.zeros(len(set([genre for genres in self.items.values() for genre in genres])))\n",
        "            for genre in genres:\n",
        "                profile[list(set(profile)).index(genre)] = 1\n",
        "            item_profiles[item] = profile\n",
        "        return item_profiles\n",
        "\n",
        "    def get_user_profile(self):\n",
        "        user_profile = np.zeros(len(set([genre for genres in self.items.values() for genre in genres])))\n",
        "        for item, rating in self.user_ratings.items():\n",
        "            user_profile += self.item_profiles[item] * rating\n",
        "        return user_profile\n",
        "\n",
        "    def recommend(self):\n",
        "        user_profile = self.get_user_profile()\n",
        "        recommendations = {}\n",
        "        for item, profile in self.item_profiles.items():\n",
        "            similarity = cosine_similarity([user_profile], [profile])[0][0]\n",
        "            recommendations[item] = similarity\n",
        "        sorted_recommendations = sorted(recommendations.items(), key=lambda x: x[1], reverse=True)\n",
        "        return [item for item, _ in sorted_recommendations]\n",
        "\n",
        "# 예시 데이터\n",
        "items = {\n",
        "    'Movie1': ['Action', 'Adventure'],\n",
        "    'Movie2': ['Drama', 'Romance'],\n",
        "    'Movie3': ['Action', 'Comedy'],\n",
        "    'Movie4': ['Drama', 'Thriller'],\n",
        "    'Movie5': ['Comedy', 'Romance'],\n",
        "}\n",
        "\n",
        "user_ratings = {\n",
        "    'Movie1': 5,\n",
        "    'Movie2': 4,\n",
        "    'Movie3': 3,\n",
        "}\n",
        "\n",
        "# 추천 시스템 사용\n",
        "recommender = ContentBasedRecommender(items, user_ratings)\n",
        "recommendations = recommender.recommend()\n",
        "print(\"추천 영화 순서:\", recommendations)"
      ]
    },
    {
      "cell_type": "code",
      "execution_count": null,
      "metadata": {},
      "outputs": [],
      "source": []
    }
  ],
  "metadata": {
    "colab": {
      "provenance": []
    },
    "kernelspec": {
      "display_name": "base",
      "language": "python",
      "name": "python3"
    },
    "language_info": {
      "codemirror_mode": {
        "name": "ipython",
        "version": 3
      },
      "file_extension": ".py",
      "mimetype": "text/x-python",
      "name": "python",
      "nbconvert_exporter": "python",
      "pygments_lexer": "ipython3",
      "version": "3.10.12"
    },
    "vscode": {
      "interpreter": {
        "hash": "ad2bdc8ecc057115af97d19610ffacc2b4e99fae6737bb82f5d7fb13d2f2c186"
      }
    }
  },
  "nbformat": 4,
  "nbformat_minor": 0
}
