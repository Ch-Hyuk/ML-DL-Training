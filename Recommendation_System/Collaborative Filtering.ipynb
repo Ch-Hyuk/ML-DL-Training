{
 "cells": [
  {
   "cell_type": "markdown",
   "metadata": {},
   "source": [
    "### 협업 필터링 baseline"
   ]
  },
  {
   "cell_type": "code",
   "execution_count": 1,
   "metadata": {},
   "outputs": [],
   "source": [
    "import numpy as np\n",
    "from sklearn.metrics.pairwise import cosine_similarity"
   ]
  },
  {
   "cell_type": "code",
   "execution_count": null,
   "metadata": {},
   "outputs": [],
   "source": [
    "# 사용자-아이템 매트릭스 생성 (예시)\n",
    "user_item_matrix = np.array([[4, 0, 5, 0, 1],\n",
    "                            [5, 2, 0, 0, 4],\n",
    "                            [0, 0, 3, 4, 0],\n",
    "                            [1, 0, 0, 5, 2]])\n",
    "\n",
    "# 유사도 행렬 계산 (코사인 유사도 사용)\n",
    "similarity_matrix = cosine_similarity(user_item_matrix)\n",
    "\n",
    "# 아이템 추천을 위한 함수\n",
    "def recommend_item(user_item_matrix, similarity_matrix, user_id, top_n=2):\n",
    "    user_ratings = user_item_matrix[user_id]\n",
    "    similar_users = np.argsort(similarity_matrix[user_id])[::-1][1:]  # 자기 자신 제외하고 가장 비슷한 사용자 순으로 정렬\n",
    "    recommendations = []\n",
    "    \n",
    "    for item in range(user_item_matrix.shape[1]):\n",
    "        if user_ratings[item] == 0:\n",
    "            predicted_rating = np.sum(user_item_matrix[similar_users, item] * similarity_matrix[user_id, similar_users])\n",
    "            recommendations.append((item, predicted_rating))\n",
    "    \n",
    "    recommendations.sort(key=lambda x: x[1], reverse=True)\n",
    "    return recommendations[:top_n]\n",
    "\n",
    "# 사용자 0에게 상위 2개 아이템 추천\n",
    "user_id = 0\n",
    "top_recommendations = recommend_item(user_item_matrix, similarity_matrix, user_id)\n",
    "print(f\"Top recommendations for user {user_id}: {top_recommendations}\")\n"
   ]
  }
 ],
 "metadata": {
  "kernelspec": {
   "display_name": "Aivenv",
   "language": "python",
   "name": "python3"
  },
  "language_info": {
   "codemirror_mode": {
    "name": "ipython",
    "version": 3
   },
   "file_extension": ".py",
   "mimetype": "text/x-python",
   "name": "python",
   "nbconvert_exporter": "python",
   "pygments_lexer": "ipython3",
   "version": "3.10.12"
  },
  "orig_nbformat": 4
 },
 "nbformat": 4,
 "nbformat_minor": 2
}
