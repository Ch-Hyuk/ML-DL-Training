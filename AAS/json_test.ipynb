{
 "cells": [
  {
   "cell_type": "code",
   "execution_count": 1,
   "metadata": {},
   "outputs": [],
   "source": [
    "import json"
   ]
  },
  {
   "cell_type": "code",
   "execution_count": 4,
   "metadata": {},
   "outputs": [],
   "source": [
    "student_data = {\n",
    "    \"1.FirstName\": \"Gildong\",\n",
    "    \"2.LastName\": \"Hong\",\n",
    "    \"3.Age\": 20,\n",
    "    \"4.University\": \"Yonsei University\",\n",
    "    \"5.Courses\": [\n",
    "        {\n",
    "            \"Major\": \"Statistics\",\n",
    "            \"Classes\": [\"Probability\",\"Generalized Linear Model\",\"Categorical Data Analysis\"]\n",
    "            },\n",
    "        {\n",
    "            \"Minor\": \"ComputerScience\",\n",
    "            \"Classes\": [\"Data Structure\",\"Programming\",\"Algorithms\"]\n",
    "        }\n",
    "    ]\n",
    "            }"
   ]
  },
  {
   "cell_type": "code",
   "execution_count": 7,
   "metadata": {},
   "outputs": [],
   "source": [
    "with open(\"student_file.json\", \"w\") as json_file:\n",
    "    json.dump(student_data, json_file)\n"
   ]
  },
  {
   "cell_type": "code",
   "execution_count": 9,
   "metadata": {},
   "outputs": [
    {
     "name": "stdout",
     "output_type": "stream",
     "text": [
      "{\"1.FirstName\": \"Gildong\", \"2.LastName\": \"Hong\", \"3.Age\": 20, \"4.University\": \"Yonsei University\", \"5.Courses\": [{\"Major\": \"Statistics\", \"Classes\": [\"Probability\", \"Generalized Linear Model\", \"Categorical Data Analysis\"]}, {\"Minor\": \"ComputerScience\", \"Classes\": [\"Data Structure\", \"Programming\", \"Algorithms\"]}]}\n"
     ]
    }
   ],
   "source": [
    "st_json = json.dumps(student_data)\n",
    "\n",
    "print(st_json)"
   ]
  },
  {
   "cell_type": "code",
   "execution_count": 14,
   "metadata": {},
   "outputs": [
    {
     "name": "stdout",
     "output_type": "stream",
     "text": [
      "{\n",
      "   \"1.FirstName\": \"Gildong\",\n",
      "   \"2.LastName\": \"Hong\",\n",
      "   \"3.Age\": 20,\n",
      "   \"4.University\": \"Yonsei University\",\n",
      "   \"5.Courses\": [\n",
      "      {\n",
      "         \"Major\": \"Statistics\",\n",
      "         \"Classes\": [\n",
      "            \"Probability\",\n",
      "            \"Generalized Linear Model\",\n",
      "            \"Categorical Data Analysis\"\n",
      "         ]\n",
      "      },\n",
      "      {\n",
      "         \"Minor\": \"ComputerScience\",\n",
      "         \"Classes\": [\n",
      "            \"Data Structure\",\n",
      "            \"Programming\",\n",
      "            \"Algorithms\"\n",
      "         ]\n",
      "      }\n",
      "   ]\n",
      "}\n"
     ]
    }
   ],
   "source": [
    "st_json = json.dumps(student_data, indent=3)\n",
    "\n",
    "print(st_json)"
   ]
  },
  {
   "cell_type": "code",
   "execution_count": null,
   "metadata": {},
   "outputs": [],
   "source": []
  }
 ],
 "metadata": {
  "kernelspec": {
   "display_name": "interX_work",
   "language": "python",
   "name": "python3"
  },
  "language_info": {
   "codemirror_mode": {
    "name": "ipython",
    "version": 3
   },
   "file_extension": ".py",
   "mimetype": "text/x-python",
   "name": "python",
   "nbconvert_exporter": "python",
   "pygments_lexer": "ipython3",
   "version": "3.11.8"
  }
 },
 "nbformat": 4,
 "nbformat_minor": 2
}
