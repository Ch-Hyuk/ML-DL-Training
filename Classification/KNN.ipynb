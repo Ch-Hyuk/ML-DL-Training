{
 "cells": [
  {
   "attachments": {},
   "cell_type": "markdown",
   "metadata": {},
   "source": [
    "## KNN Classification을 통해 개 종류 예측"
   ]
  },
  {
   "cell_type": "code",
   "execution_count": null,
   "metadata": {},
   "outputs": [],
   "source": [
    "import numpy as np\n",
    "from collections import Counter\n",
    "\n",
    "\n",
    "class kNearestNeighbors(object):\n",
    "    def __init__(self):\n",
    "        pass\n",
    "\n",
    "    def train(self, data, label):\n",
    "        self.data = data\n",
    "        self.label = label\n",
    "\n",
    "    def L1_distance(self, x):\n",
    "        distances = np.sum(np.abs(self.data - x), axis=1)\n",
    "        return distances\n",
    "    \n",
    "    def L2_distance(self, x):\n",
    "        distances = np.sqrt(np.sum(np.square(self.data - x), axis=1))\n",
    "        return distances\n",
    "\n",
    "    def predict(self, test_data, k, distance):\n",
    "\n",
    "        label_pred = np.zeros(1, dtype=int)\n",
    "\n",
    "        shortest = []\n",
    "        if distance == 'L1':\n",
    "            distances = self.L1_distance(test_data)\n",
    "        if distance == 'L2':\n",
    "            distances = self.L2_distance(test_data)\n",
    "\n",
    "        min_indices = np.argsort(distances)\n",
    "        for j in range(k):\n",
    "            shortest.append(self.label[min_indices[j]])\n",
    "\n",
    "        label_pred = Counter(shortest).most_common(1)[0][0]\n",
    "\n",
    "        return label_pred"
   ]
  },
  {
   "cell_type": "code",
   "execution_count": null,
   "metadata": {},
   "outputs": [],
   "source": [
    "knn = kNearestNeighbors()\n",
    "\n",
    "data_set = np.array([[75,24],[77,29],[83,19],[81,32],[73,21],[99,22],[72,19],[83,34],\n",
    "                     [76,55],[78,58],[82,53],[88,54],[76,61],[83,52],[81,57],[89,64],\n",
    "                     [35,23],[39,26],[38,19],[41,30],[30,21],[57,24],[41,28],[35,20]\n",
    "])\n",
    "\n",
    "data_label = np.array(['Dachshund']*8+['Samoyed']*8+['Maltese']*8)\n",
    "\n",
    "test_data = np.array([[58,30],[80,26],[80,41],[75,55]])\n",
    "\n",
    "knn = kNearestNeighbors()\n",
    "knn.train(data_set, data_label)\n",
    "\n",
    "for data in test_data:\n",
    "    print('--Sample [{}]--'.format(data))\n",
    "    print('Use L1 norm')\n",
    "    for k in [3,5,7]:\n",
    "        label_pred = knn.predict(data,k=k, distance='L1')\n",
    "        print('n_neighbor is {0} -> {1}'.format(k,label_pred))\n",
    "    \n",
    "    print('Use L2 norm')\n",
    "    for k in [3,5,7]:\n",
    "        label_pred = knn.predict(data,k=k, distance='L2')\n",
    "        print('n_neighbor is {0} -> {1}'.format(k,label_pred))\n",
    "\n",
    "    print()"
   ]
  }
 ],
 "metadata": {
  "kernelspec": {
   "display_name": "base",
   "language": "python",
   "name": "python3"
  },
  "language_info": {
   "name": "python",
   "version": "3.8.3 (default, Jul  2 2020, 17:30:36) [MSC v.1916 64 bit (AMD64)]"
  },
  "orig_nbformat": 4,
  "vscode": {
   "interpreter": {
    "hash": "ad2bdc8ecc057115af97d19610ffacc2b4e99fae6737bb82f5d7fb13d2f2c186"
   }
  }
 },
 "nbformat": 4,
 "nbformat_minor": 2
}
