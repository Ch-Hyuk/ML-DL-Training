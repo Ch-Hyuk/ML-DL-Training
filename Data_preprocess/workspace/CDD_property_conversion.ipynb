{
 "cells": [
  {
   "cell_type": "markdown",
   "metadata": {},
   "source": [
    "## CDD 데이터 변환 프로그램\n",
    "- CDD excel export파일에서 property를 분할 정리\n"
   ]
  },
  {
   "cell_type": "code",
   "execution_count": 15,
   "metadata": {},
   "outputs": [
    {
     "name": "stdout",
     "output_type": "stream",
     "text": [
      "c:\\Users\\PC\\Desktop\\git_repo\\workspace/sheet_file\n"
     ]
    }
   ],
   "source": [
    "import pandas as pd\n",
    "from openpyxl import load_workbook\n",
    "import os\n",
    "\n",
    "dir_path = os.getcwd()+'/sheet_file'\n",
    "print(dir_path)"
   ]
  },
  {
   "cell_type": "code",
   "execution_count": 12,
   "metadata": {},
   "outputs": [],
   "source": [
    "def prop_data(file_name, file_path):\n",
    "\n",
    "    df = pd.read_excel(file_path)\n",
    "\n",
    "    first_col_name = df.columns[0]\n",
    "\n",
    "    # 첫 번째 열에서 #PROPERTY_NAME.en 찾기\n",
    "    row_with = df[df[first_col_name] == '#PROPERTY_NAME.en']\n",
    "    row_idx = df.index[df[first_col_name] == '#PROPERTY_NAME.en'].tolist()[0]\n",
    "\n",
    "    if not row_with.empty:\n",
    "\n",
    "        code_col = row_with.columns[row_with.isin(['Code']).any()].tolist()[0]\n",
    "        prenam_col = row_with.columns[row_with.isin(['PreferredName.EN']).any()].tolist()[0]\n",
    "        prop_col = row_with.columns[row_with.isin(['Properties']).any()].tolist()[0]\n",
    "\n",
    "        print(\"Code 열:\", code_col)\n",
    "        print(\"PreferredName.EN 열:\", prenam_col)\n",
    "        print(\"Properties 열:\", prop_col)\n",
    "\n",
    "\n",
    "        row, cl_col,pre_col, pr_col = row_idx, code_col, prenam_col, prop_col\n",
    "\n",
    "        data = df.loc[row:, [cl_col, pre_col, pr_col]]\n",
    "\n",
    "\n",
    "        data.columns = ['Class_Name','PreferredName', 'Properties']\n",
    "        # 첫 번째 열의 값이 NaN인 행 제거\n",
    "        df = data.dropna(subset=['Class_Name'])\n",
    "\n",
    "        # 두 번째 열의 값을 \",\"로 구분하고 \"{}\"를 제거하여 처리합니다.\n",
    "        expanded_rows = []\n",
    "\n",
    "        for index, row in df.iterrows():\n",
    "            class_name = row['Class_Name']\n",
    "            prefer_name = row['PreferredName']\n",
    "            properties = row['Properties']\n",
    "\n",
    "            if pd.notna(properties):\n",
    "                # {} 제거 및 ,로 분리\n",
    "                properties_list = properties.strip('{}').split(',')\n",
    "                for prop in properties_list:\n",
    "                    expanded_rows.append([class_name, prefer_name, prop])\n",
    "            else:\n",
    "                expanded_rows.append([class_name, prefer_name, None])\n",
    "\n",
    "        new_df = pd.DataFrame(expanded_rows, columns=['Class_Name','PreferredName', 'Properties'])\n",
    "\n",
    "        new_df.reset_index(drop=True, inplace=True)\n",
    "\n",
    "        #print(new_df.iloc[35:40])\n",
    "        # 결과 출력\n",
    "        #print(new_df.describe())\n",
    "\n",
    "        #print(test_df.describe())\n",
    "        #print(len(test_df.unique())-2)\n",
    "        \n",
    "        new_df = new_df[1:]\n",
    "\n",
    "\n",
    "\n",
    "        print(new_df['Class_Name'][2:].describe())\n",
    "        print(new_df['Properties'][2:].describe())\n",
    "        \n",
    "\n",
    "    else:\n",
    "        print(\"첫 번째 열에 'A'를 포함하는 행이 없습니다.\")\n",
    "\n"
   ]
  },
  {
   "cell_type": "code",
   "execution_count": 25,
   "metadata": {},
   "outputs": [],
   "source": [
    "def data_analyze(file_path):\n",
    "    df = pd.read_excel(file_path)\n",
    "\n",
    "    print(df['Class_Name'].describe())\n",
    "    print(df['Properties'].describe())\n",
    "    #print(df.describe())"
   ]
  },
  {
   "cell_type": "code",
   "execution_count": 26,
   "metadata": {},
   "outputs": [
    {
     "name": "stdout",
     "output_type": "stream",
     "text": [
      "['일반 사항.xlsx', '저전압 배전반.xlsx', '전기 전자 부품.xlsx', '전기량 측정 장비.xlsx']\n",
      "일반 사항.xlsx\n",
      "count                          19\n",
      "unique                         10\n",
      "top       0112/2///61360_7#CAA002\n",
      "freq                            8\n",
      "Name: Class_Name, dtype: object\n",
      "count                          12\n",
      "unique                         12\n",
      "top       0112/2///61360_7#AAS008\n",
      "freq                            1\n",
      "Name: Properties, dtype: object\n",
      "저전압 배전반.xlsx\n",
      "count                      1169\n",
      "unique                      379\n",
      "top       0112/2///62683#ACC012\n",
      "freq                         88\n",
      "Name: Class_Name, dtype: object\n",
      "count                       893\n",
      "unique                      568\n",
      "top       0112/2///62683#ACF001\n",
      "freq                         85\n",
      "Name: Properties, dtype: object\n",
      "전기 전자 부품.xlsx\n",
      "count                        1484\n",
      "unique                        284\n",
      "top       0112/2///61360_4#AAA302\n",
      "freq                          111\n",
      "Name: Class_Name, dtype: object\n",
      "count                        1458\n",
      "unique                        802\n",
      "top       0112/2///61360_4#AAG001\n",
      "freq                           43\n",
      "Name: Properties, dtype: object\n",
      "전기량 측정 장비.xlsx\n",
      "count                        84\n",
      "unique                       26\n",
      "top       0112/2///63213#KEA102\n",
      "freq                         13\n",
      "Name: Class_Name, dtype: object\n",
      "count                        72\n",
      "unique                       67\n",
      "top       0112/2///63213#KEC002\n",
      "freq                          2\n",
      "Name: Properties, dtype: object\n"
     ]
    }
   ],
   "source": [
    "file_names = os.listdir(dir_path)\n",
    "print(file_names)\n",
    "for file_name in file_names:\n",
    "    print(file_name)\n",
    "    data_analyze(os.path.join(dir_path,file_name))"
   ]
  },
  {
   "cell_type": "code",
   "execution_count": 27,
   "metadata": {},
   "outputs": [
    {
     "name": "stdout",
     "output_type": "stream",
     "text": [
      "count                     15648\n",
      "unique                     2512\n",
      "top       0112/2///61987#ABG314\n",
      "freq                         49\n",
      "Name: Class_Name, dtype: object\n",
      "count                     15291\n",
      "unique                     6126\n",
      "top       0112/2///61987#ABA907\n",
      "freq                        148\n",
      "Name: Properties, dtype: object\n"
     ]
    }
   ],
   "source": [
    "data_analyze(os.path.join(dir_path,\"CDD property.xlsx\"))"
   ]
  }
 ],
 "metadata": {
  "kernelspec": {
   "display_name": "interX_work",
   "language": "python",
   "name": "python3"
  },
  "language_info": {
   "codemirror_mode": {
    "name": "ipython",
    "version": 3
   },
   "file_extension": ".py",
   "mimetype": "text/x-python",
   "name": "python",
   "nbconvert_exporter": "python",
   "pygments_lexer": "ipython3",
   "version": "3.11.8"
  }
 },
 "nbformat": 4,
 "nbformat_minor": 2
}
