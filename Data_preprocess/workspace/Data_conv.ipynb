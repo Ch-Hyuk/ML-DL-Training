{
 "cells": [
  {
   "cell_type": "markdown",
   "metadata": {},
   "source": [
    "## 수집 단어 데이터의 병합 처리\n",
    "- eCl@ss, CDD, 기타 수집데이터의 영문 WORD 데이터 중복 처리 및 병합"
   ]
  },
  {
   "cell_type": "code",
   "execution_count": 8,
   "metadata": {},
   "outputs": [
    {
     "name": "stdout",
     "output_type": "stream",
     "text": [
      "c:\\Users\\PC\\Desktop\\git_repo\\ML-DL-Training\\Data_preprocess\\workspace\\word_data_file\n"
     ]
    }
   ],
   "source": [
    "#라이브러리 import\n",
    "\n",
    "import pandas as pd\n",
    "from openpyxl import load_workbook\n",
    "import os\n",
    "import re\n",
    "\n",
    "dir_path = os.getcwd()\n",
    "dir_path = os.path.join(dir_path, \"word_data_file\")\n",
    "print(dir_path)"
   ]
  },
  {
   "cell_type": "code",
   "execution_count": 9,
   "metadata": {},
   "outputs": [],
   "source": [
    "# 모든 엑셀 파일을 읽어들이기 위한 빈 리스트 생성\n",
    "word_df = []\n",
    "abb_df = []\n",
    "column_name = 'A'\n",
    "\n",
    "# 폴더 내의 파일 리스트 가져오기\n",
    "for file_name in os.listdir(dir_path):\n",
    "    # 파일 확장자가 .xlsx 인지 확인\n",
    "    if file_name.endswith('.xlsx'):\n",
    "\n",
    "        file_path = os.path.join(dir_path, file_name)\n",
    "\n",
    "        # 단어 시트 파일을 데이터프레임으로 읽기\n",
    "        word_sheet = pd.read_excel(file_path, sheet_name='Sheet1', usecols=column_name)\n",
    "        word_df.append(word_sheet)\n",
    "\n",
    "        # 약어 시트 파일을 데이터프레임으로 읽기\n",
    "        abb_sheet = pd.read_excel(file_path, sheet_name='Sheet2', usecols=column_name)\n",
    "        abb_df.append(abb_sheet)\n",
    "\n",
    "# 각 sheet 데이터 병합\n",
    "merged_sheet1 = pd.concat(word_df, axis=0, ignore_index=True)\n",
    "merged_sheet1 = merged_sheet1.drop_duplicates().reset_index(drop=True)\n",
    "\n",
    "merged_sheet2 = pd.concat(abb_df, axis=0, ignore_index=True)\n",
    "merged_sheet2 = merged_sheet2.drop_duplicates().reset_index(drop=True)"
   ]
  },
  {
   "cell_type": "code",
   "execution_count": 10,
   "metadata": {},
   "outputs": [
    {
     "data": {
      "text/html": [
       "<div>\n",
       "<style scoped>\n",
       "    .dataframe tbody tr th:only-of-type {\n",
       "        vertical-align: middle;\n",
       "    }\n",
       "\n",
       "    .dataframe tbody tr th {\n",
       "        vertical-align: top;\n",
       "    }\n",
       "\n",
       "    .dataframe thead th {\n",
       "        text-align: right;\n",
       "    }\n",
       "</style>\n",
       "<table border=\"1\" class=\"dataframe\">\n",
       "  <thead>\n",
       "    <tr style=\"text-align: right;\">\n",
       "      <th></th>\n",
       "      <th>Word</th>\n",
       "    </tr>\n",
       "  </thead>\n",
       "  <tbody>\n",
       "    <tr>\n",
       "      <th>0</th>\n",
       "      <td>absolute</td>\n",
       "    </tr>\n",
       "    <tr>\n",
       "      <th>1</th>\n",
       "      <td>accelerometer</td>\n",
       "    </tr>\n",
       "    <tr>\n",
       "      <th>2</th>\n",
       "      <td>accessory</td>\n",
       "    </tr>\n",
       "    <tr>\n",
       "      <th>3</th>\n",
       "      <td>accuracy</td>\n",
       "    </tr>\n",
       "    <tr>\n",
       "      <th>4</th>\n",
       "      <td>acoustic</td>\n",
       "    </tr>\n",
       "    <tr>\n",
       "      <th>...</th>\n",
       "      <td>...</td>\n",
       "    </tr>\n",
       "    <tr>\n",
       "      <th>6239</th>\n",
       "      <td>regulating</td>\n",
       "    </tr>\n",
       "    <tr>\n",
       "      <th>6240</th>\n",
       "      <td>fixing</td>\n",
       "    </tr>\n",
       "    <tr>\n",
       "      <th>6241</th>\n",
       "      <td>compaction</td>\n",
       "    </tr>\n",
       "    <tr>\n",
       "      <th>6242</th>\n",
       "      <td>extraction</td>\n",
       "    </tr>\n",
       "    <tr>\n",
       "      <th>6243</th>\n",
       "      <td>loading</td>\n",
       "    </tr>\n",
       "  </tbody>\n",
       "</table>\n",
       "<p>6244 rows × 1 columns</p>\n",
       "</div>"
      ],
      "text/plain": [
       "               Word\n",
       "0          absolute\n",
       "1     accelerometer\n",
       "2         accessory\n",
       "3          accuracy\n",
       "4          acoustic\n",
       "...             ...\n",
       "6239     regulating\n",
       "6240         fixing\n",
       "6241     compaction\n",
       "6242     extraction\n",
       "6243        loading\n",
       "\n",
       "[6244 rows x 1 columns]"
      ]
     },
     "execution_count": 10,
     "metadata": {},
     "output_type": "execute_result"
    }
   ],
   "source": [
    "merged_sheet1"
   ]
  },
  {
   "cell_type": "code",
   "execution_count": 11,
   "metadata": {},
   "outputs": [
    {
     "data": {
      "text/html": [
       "<div>\n",
       "<style scoped>\n",
       "    .dataframe tbody tr th:only-of-type {\n",
       "        vertical-align: middle;\n",
       "    }\n",
       "\n",
       "    .dataframe tbody tr th {\n",
       "        vertical-align: top;\n",
       "    }\n",
       "\n",
       "    .dataframe thead th {\n",
       "        text-align: right;\n",
       "    }\n",
       "</style>\n",
       "<table border=\"1\" class=\"dataframe\">\n",
       "  <thead>\n",
       "    <tr style=\"text-align: right;\">\n",
       "      <th></th>\n",
       "      <th>Word</th>\n",
       "    </tr>\n",
       "  </thead>\n",
       "  <tbody>\n",
       "    <tr>\n",
       "      <th>0</th>\n",
       "      <td>SPD</td>\n",
       "    </tr>\n",
       "    <tr>\n",
       "      <th>1</th>\n",
       "      <td>READBACK</td>\n",
       "    </tr>\n",
       "    <tr>\n",
       "      <th>2</th>\n",
       "      <td>DLOP</td>\n",
       "    </tr>\n",
       "    <tr>\n",
       "      <th>3</th>\n",
       "      <td>PTC</td>\n",
       "    </tr>\n",
       "    <tr>\n",
       "      <th>4</th>\n",
       "      <td>LPG</td>\n",
       "    </tr>\n",
       "    <tr>\n",
       "      <th>...</th>\n",
       "      <td>...</td>\n",
       "    </tr>\n",
       "    <tr>\n",
       "      <th>816</th>\n",
       "      <td>OPCUA</td>\n",
       "    </tr>\n",
       "    <tr>\n",
       "      <th>817</th>\n",
       "      <td>PH</td>\n",
       "    </tr>\n",
       "    <tr>\n",
       "      <th>818</th>\n",
       "      <td>RPM</td>\n",
       "    </tr>\n",
       "    <tr>\n",
       "      <th>819</th>\n",
       "      <td>O-RING</td>\n",
       "    </tr>\n",
       "    <tr>\n",
       "      <th>820</th>\n",
       "      <td>CP-TRIP</td>\n",
       "    </tr>\n",
       "  </tbody>\n",
       "</table>\n",
       "<p>821 rows × 1 columns</p>\n",
       "</div>"
      ],
      "text/plain": [
       "         Word\n",
       "0         SPD\n",
       "1    READBACK\n",
       "2        DLOP\n",
       "3         PTC\n",
       "4         LPG\n",
       "..        ...\n",
       "816     OPCUA\n",
       "817        PH\n",
       "818       RPM\n",
       "819    O-RING\n",
       "820   CP-TRIP\n",
       "\n",
       "[821 rows x 1 columns]"
      ]
     },
     "execution_count": 11,
     "metadata": {},
     "output_type": "execute_result"
    }
   ],
   "source": [
    "merged_sheet2"
   ]
  },
  {
   "cell_type": "code",
   "execution_count": 12,
   "metadata": {},
   "outputs": [],
   "source": [
    "# 결과 엑셀 시트에 분할 저장\n",
    "result_file_path = os.path.join(dir_path,'Word_Result_Data.xlsx')\n",
    "with pd.ExcelWriter(result_file_path) as writer:\n",
    "    merged_sheet1.to_excel(writer, sheet_name='Word', index=False)\n",
    "    merged_sheet2.to_excel(writer, sheet_name='Abbreviation', index=False)"
   ]
  },
  {
   "cell_type": "code",
   "execution_count": null,
   "metadata": {},
   "outputs": [],
   "source": []
  }
 ],
 "metadata": {
  "kernelspec": {
   "display_name": "interX_work",
   "language": "python",
   "name": "python3"
  },
  "language_info": {
   "codemirror_mode": {
    "name": "ipython",
    "version": 3
   },
   "file_extension": ".py",
   "mimetype": "text/x-python",
   "name": "python",
   "nbconvert_exporter": "python",
   "pygments_lexer": "ipython3",
   "version": "3.11.8"
  }
 },
 "nbformat": 4,
 "nbformat_minor": 2
}
