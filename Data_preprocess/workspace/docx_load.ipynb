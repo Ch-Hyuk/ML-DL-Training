{
 "cells": [
  {
   "cell_type": "code",
   "execution_count": 3,
   "metadata": {},
   "outputs": [],
   "source": [
    "from docx import Document\n",
    "import os\n",
    "import pandas as pd\n"
   ]
  },
  {
   "cell_type": "code",
   "execution_count": 4,
   "metadata": {},
   "outputs": [
    {
     "name": "stdout",
     "output_type": "stream",
     "text": [
      "c:\\Users\\PC\\Desktop\\git_repo\\ML-DL-Training\\Data_preprocess\\workspace\\file\n"
     ]
    }
   ],
   "source": [
    "dir_path = os.getcwd()\n",
    "dir_path = os.path.join(dir_path, \"file\")\n",
    "print(dir_path)"
   ]
  },
  {
   "cell_type": "code",
   "execution_count": 5,
   "metadata": {},
   "outputs": [],
   "source": [
    "file_name = \"Data_File.docx\"\n",
    "file_path = os.path.join(dir_path,file_name)\n",
    "\n",
    "doc = Document(file_path)"
   ]
  },
  {
   "cell_type": "code",
   "execution_count": 10,
   "metadata": {},
   "outputs": [
    {
     "name": "stdout",
     "output_type": "stream",
     "text": [
      "CSV file saved at metal_terms_korean_english.csv\n"
     ]
    }
   ],
   "source": [
    "# Extract terms\n",
    "terms = []\n",
    "capture = False\n",
    "\n",
    "for paragraph in doc.paragraphs:\n",
    "    text = paragraph.text.strip()\n",
    "    if \"국어\" in text and \"영어\" in text:\n",
    "        capture = True\n",
    "        continue\n",
    "    if capture and text:\n",
    "        parts = text.split('\\t')\n",
    "        if len(parts) >= 2:\n",
    "            korean_term = parts[0].strip()\n",
    "            english_term = parts[1].strip()\n",
    "            terms.append((korean_term, english_term))\n",
    "    if \"검댕이\" in text:  # 추출 종료 조건을 지정합니다.\n",
    "        capture = False\n",
    "\n",
    "# Create a DataFrame\n",
    "df_terms = pd.DataFrame(terms, columns=['Korean', 'English'])\n",
    "\n",
    "# Save the DataFrame as CSV with UTF-8 encoding\n",
    "output_csv_path = 'metal_terms_korean_english.csv'\n",
    "df_terms.to_csv(output_csv_path, index=False, encoding='utf-8-sig')  # Excel 호환을 위해 'utf-8-sig'로 저장\n",
    "\n",
    "print(f\"CSV file saved at {output_csv_path}\")"
   ]
  },
  {
   "cell_type": "code",
   "execution_count": 12,
   "metadata": {},
   "outputs": [],
   "source": [
    "terms = []\n",
    "capture = False\n",
    "\n",
    "for paragraph in doc.paragraphs:\n",
    "    text = paragraph.text.strip()\n",
    "    if \"국어\" in text and \"영어\" in text:\n",
    "        capture = True\n",
    "        continue\n",
    "    if capture and text:\n",
    "        parts = text.split()\n",
    "        if len(parts) >= 2:\n",
    "            korean_term = parts[0].strip()\n",
    "            english_term = \" \".join(parts[1:]).strip()\n",
    "            terms.append((korean_term, english_term))\n",
    "    if \"약어 (Abbreviation)\" in text:  # 추출 종료 조건을 지정합니다.\n",
    "        capture = False\n",
    "\n",
    "# Create a DataFrame\n",
    "df_terms = pd.DataFrame(terms, columns=['Korean', 'English'])\n",
    "\n",
    "# Save the DataFrame as CSV with UTF-8 encoding\n",
    "output_csv_path = 'metal_terms_korean_english_1.csv'\n",
    "df_terms.to_csv(output_csv_path, index=False, encoding='utf-8-sig')  # Excel 호환을 위해 'utf-8-sig'로 저장\n"
   ]
  },
  {
   "cell_type": "code",
   "execution_count": 13,
   "metadata": {},
   "outputs": [
    {
     "data": {
      "text/html": [
       "<div>\n",
       "<style scoped>\n",
       "    .dataframe tbody tr th:only-of-type {\n",
       "        vertical-align: middle;\n",
       "    }\n",
       "\n",
       "    .dataframe tbody tr th {\n",
       "        vertical-align: top;\n",
       "    }\n",
       "\n",
       "    .dataframe thead th {\n",
       "        text-align: right;\n",
       "    }\n",
       "</style>\n",
       "<table border=\"1\" class=\"dataframe\">\n",
       "  <thead>\n",
       "    <tr style=\"text-align: right;\">\n",
       "      <th></th>\n",
       "      <th>Korean</th>\n",
       "      <th>English</th>\n",
       "    </tr>\n",
       "  </thead>\n",
       "  <tbody>\n",
       "    <tr>\n",
       "      <th>count</th>\n",
       "      <td>18373</td>\n",
       "      <td>18373</td>\n",
       "    </tr>\n",
       "    <tr>\n",
       "      <th>unique</th>\n",
       "      <td>11281</td>\n",
       "      <td>16974</td>\n",
       "    </tr>\n",
       "    <tr>\n",
       "      <th>top</th>\n",
       "      <td>영</td>\n",
       "      <td>․ 한</td>\n",
       "    </tr>\n",
       "    <tr>\n",
       "      <th>freq</th>\n",
       "      <td>106</td>\n",
       "      <td>106</td>\n",
       "    </tr>\n",
       "  </tbody>\n",
       "</table>\n",
       "</div>"
      ],
      "text/plain": [
       "       Korean English\n",
       "count   18373   18373\n",
       "unique  11281   16974\n",
       "top         영     ․ 한\n",
       "freq      106     106"
      ]
     },
     "execution_count": 13,
     "metadata": {},
     "output_type": "execute_result"
    }
   ],
   "source": [
    "df_terms.describe()"
   ]
  },
  {
   "cell_type": "code",
   "execution_count": null,
   "metadata": {},
   "outputs": [],
   "source": []
  }
 ],
 "metadata": {
  "kernelspec": {
   "display_name": "interX_work",
   "language": "python",
   "name": "python3"
  },
  "language_info": {
   "codemirror_mode": {
    "name": "ipython",
    "version": 3
   },
   "file_extension": ".py",
   "mimetype": "text/x-python",
   "name": "python",
   "nbconvert_exporter": "python",
   "pygments_lexer": "ipython3",
   "version": "3.11.8"
  }
 },
 "nbformat": 4,
 "nbformat_minor": 2
}
