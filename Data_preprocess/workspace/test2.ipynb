{
 "cells": [
  {
   "cell_type": "code",
   "execution_count": null,
   "metadata": {},
   "outputs": [],
   "source": [
    "import requests\n",
    "import json\n",
    "\n",
    "# 발급받은 API 키\n",
    "api_key = 'YOUR_API_KEY'\n",
    "\n",
    "# API 엔드포인트\n",
    "url_status = 'https://api.odcloud.kr/api/nts-businessman/v1/status'\n",
    "url_validate = 'https://api.odcloud.kr/api/nts-businessman/v1/validate'\n",
    "\n",
    "# 요청 헤더\n",
    "headers = {\n",
    "    'Authorization': f'Bearer {api_key}',\n",
    "    'Content-Type': 'application/json'\n",
    "}\n",
    "\n",
    "# 조회할 사업자등록번호 (예시)\n",
    "data = {\n",
    "    \"b_no\": [\"1234567890\"]  # 10자리 사업자등록번호\n",
    "}\n",
    "\n",
    "# 상태 조회 요청\n",
    "response_status = requests.post(url_status, headers=headers, data=json.dumps(data))\n",
    "\n",
    "# 진위 확인 요청\n",
    "data_validate = {\n",
    "    \"businesses\": [\n",
    "        {\n",
    "            \"b_no\": \"1234567890\",\n",
    "            \"start_dt\": \"20220101\",\n",
    "            \"p_nm\": \"홍길동\",\n",
    "            \"p_nm2\": \"홍길동\",\n",
    "            \"b_nm\": \"(주)테스트\",\n",
    "            \"corp_no\": \"0000000000000\",\n",
    "            \"b_sector\": \"\",\n",
    "            \"b_type\": \"\"\n",
    "        }\n",
    "    ]\n",
    "}\n",
    "response_validate = requests.post(url_validate, headers=headers, data=json.dumps(data_validate))\n",
    "\n",
    "# 응답 결과 출력\n",
    "if response_status.status_code == 200:\n",
    "    print(\"Status:\", response_status.json())\n",
    "else:\n",
    "    print(f\"Error: {response_status.status_code}, {response_status.text}\")\n",
    "\n",
    "if response_validate.status_code == 200:\n",
    "    print(\"Validate:\", response_validate.json())\n",
    "else:\n",
    "    print(f\"Error: {response_validate.status_code}, {response_validate.text}\")\n"
   ]
  },
  {
   "cell_type": "code",
   "execution_count": null,
   "metadata": {},
   "outputs": [],
   "source": []
  }
 ],
 "metadata": {
  "kernelspec": {
   "display_name": "interX_work",
   "language": "python",
   "name": "python3"
  },
  "language_info": {
   "name": "python",
   "version": "3.11.8"
  }
 },
 "nbformat": 4,
 "nbformat_minor": 2
}
